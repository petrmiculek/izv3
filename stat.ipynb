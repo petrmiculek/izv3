{
 "cells": [
  {
   "cell_type": "code",
   "execution_count": 23,
   "metadata": {
    "collapsed": true
   },
   "outputs": [],
   "source": [
    "import numpy as np\n",
    "import pandas as pd\n",
    "import seaborn as sns\n",
    "import scipy.stats\n",
    "import matplotlib.pyplot as plt\n",
    "# %matplotlib inline"
   ]
  },
  {
   "cell_type": "code",
   "execution_count": 24,
   "outputs": [],
   "source": [
    "# load dataset\n",
    "df = pd.read_pickle('accidents.pkl.gz')[['p11', 'p13a', 'p13b']]  # 487161 rows"
   ],
   "metadata": {
    "collapsed": false,
    "pycharm": {
     "name": "#%%\n"
    }
   }
  },
  {
   "cell_type": "code",
   "execution_count": 25,
   "metadata": {},
   "outputs": [],
   "source": [
    "# ignore drug-related crashes\n",
    "df = df[df['p11'] != 4]\n",
    "df = df[df['p11'] != 5]"
   ]
  },
  {
   "cell_type": "code",
   "execution_count": 26,
   "outputs": [
    {
     "output_type": "execute_result",
     "data": {
      "text/plain": [
       "        p11  p13a  p13b  conseq\n",
       "18        2     0     1    True\n",
       "117       2     0     1    True\n",
       "218       2     0     1    True\n",
       "247       9     0     1    True\n",
       "403       2     1     0    True\n",
       "...     ...   ...   ...     ...\n",
       "486746    0     1     0    True\n",
       "486887    2     0     1    True\n",
       "486935    2     0     2    True\n",
       "487011    0     1     0    True\n",
       "487144    2     0     1    True\n",
       "\n",
       "[11663 rows x 4 columns]"
      ],
      "text/html": "<div>\n<style scoped>\n    .dataframe tbody tr th:only-of-type {\n        vertical-align: middle;\n    }\n\n    .dataframe tbody tr th {\n        vertical-align: top;\n    }\n\n    .dataframe thead th {\n        text-align: right;\n    }\n</style>\n<table border=\"1\" class=\"dataframe\">\n  <thead>\n    <tr style=\"text-align: right;\">\n      <th></th>\n      <th>p11</th>\n      <th>p13a</th>\n      <th>p13b</th>\n      <th>conseq</th>\n    </tr>\n  </thead>\n  <tbody>\n    <tr>\n      <th>18</th>\n      <td>2</td>\n      <td>0</td>\n      <td>1</td>\n      <td>True</td>\n    </tr>\n    <tr>\n      <th>117</th>\n      <td>2</td>\n      <td>0</td>\n      <td>1</td>\n      <td>True</td>\n    </tr>\n    <tr>\n      <th>218</th>\n      <td>2</td>\n      <td>0</td>\n      <td>1</td>\n      <td>True</td>\n    </tr>\n    <tr>\n      <th>247</th>\n      <td>9</td>\n      <td>0</td>\n      <td>1</td>\n      <td>True</td>\n    </tr>\n    <tr>\n      <th>403</th>\n      <td>2</td>\n      <td>1</td>\n      <td>0</td>\n      <td>True</td>\n    </tr>\n    <tr>\n      <th>...</th>\n      <td>...</td>\n      <td>...</td>\n      <td>...</td>\n      <td>...</td>\n    </tr>\n    <tr>\n      <th>486746</th>\n      <td>0</td>\n      <td>1</td>\n      <td>0</td>\n      <td>True</td>\n    </tr>\n    <tr>\n      <th>486887</th>\n      <td>2</td>\n      <td>0</td>\n      <td>1</td>\n      <td>True</td>\n    </tr>\n    <tr>\n      <th>486935</th>\n      <td>2</td>\n      <td>0</td>\n      <td>2</td>\n      <td>True</td>\n    </tr>\n    <tr>\n      <th>487011</th>\n      <td>0</td>\n      <td>1</td>\n      <td>0</td>\n      <td>True</td>\n    </tr>\n    <tr>\n      <th>487144</th>\n      <td>2</td>\n      <td>0</td>\n      <td>1</td>\n      <td>True</td>\n    </tr>\n  </tbody>\n</table>\n<p>11663 rows × 4 columns</p>\n</div>"
     },
     "metadata": {},
     "execution_count": 26
    }
   ],
   "source": [
    "## Heavy consequences\n",
    "\n",
    "# append column with a flag indicating heavy crash consequences\n",
    "df['conseq'] = False\n",
    "df.loc[(df['p13a'] > 0) | (df['p13b'] > 0), 'conseq'] = True\n",
    "\n",
    "df[df['conseq'] == True]  # 11785 rows"
   ],
   "metadata": {
    "collapsed": false,
    "pycharm": {
     "name": "#%%\n"
    }
   }
  },
  {
   "cell_type": "code",
   "execution_count": 27,
   "metadata": {},
   "outputs": [
    {
     "output_type": "execute_result",
     "data": {
      "text/plain": [
       "        p11  p13a  p13b  conseq  alcohol\n",
       "3         9     0     0   False     True\n",
       "6         9     0     0   False     True\n",
       "12        8     0     0   False     True\n",
       "17        9     0     0   False     True\n",
       "30        9     0     0   False     True\n",
       "...     ...   ...   ...     ...      ...\n",
       "487085    9     0     0   False     True\n",
       "487095    8     0     0   False     True\n",
       "487107    8     0     0   False     True\n",
       "487142    9     0     0   False     True\n",
       "487152    8     0     0   False     True\n",
       "\n",
       "[17378 rows x 5 columns]"
      ],
      "text/html": "<div>\n<style scoped>\n    .dataframe tbody tr th:only-of-type {\n        vertical-align: middle;\n    }\n\n    .dataframe tbody tr th {\n        vertical-align: top;\n    }\n\n    .dataframe thead th {\n        text-align: right;\n    }\n</style>\n<table border=\"1\" class=\"dataframe\">\n  <thead>\n    <tr style=\"text-align: right;\">\n      <th></th>\n      <th>p11</th>\n      <th>p13a</th>\n      <th>p13b</th>\n      <th>conseq</th>\n      <th>alcohol</th>\n    </tr>\n  </thead>\n  <tbody>\n    <tr>\n      <th>3</th>\n      <td>9</td>\n      <td>0</td>\n      <td>0</td>\n      <td>False</td>\n      <td>True</td>\n    </tr>\n    <tr>\n      <th>6</th>\n      <td>9</td>\n      <td>0</td>\n      <td>0</td>\n      <td>False</td>\n      <td>True</td>\n    </tr>\n    <tr>\n      <th>12</th>\n      <td>8</td>\n      <td>0</td>\n      <td>0</td>\n      <td>False</td>\n      <td>True</td>\n    </tr>\n    <tr>\n      <th>17</th>\n      <td>9</td>\n      <td>0</td>\n      <td>0</td>\n      <td>False</td>\n      <td>True</td>\n    </tr>\n    <tr>\n      <th>30</th>\n      <td>9</td>\n      <td>0</td>\n      <td>0</td>\n      <td>False</td>\n      <td>True</td>\n    </tr>\n    <tr>\n      <th>...</th>\n      <td>...</td>\n      <td>...</td>\n      <td>...</td>\n      <td>...</td>\n      <td>...</td>\n    </tr>\n    <tr>\n      <th>487085</th>\n      <td>9</td>\n      <td>0</td>\n      <td>0</td>\n      <td>False</td>\n      <td>True</td>\n    </tr>\n    <tr>\n      <th>487095</th>\n      <td>8</td>\n      <td>0</td>\n      <td>0</td>\n      <td>False</td>\n      <td>True</td>\n    </tr>\n    <tr>\n      <th>487107</th>\n      <td>8</td>\n      <td>0</td>\n      <td>0</td>\n      <td>False</td>\n      <td>True</td>\n    </tr>\n    <tr>\n      <th>487142</th>\n      <td>9</td>\n      <td>0</td>\n      <td>0</td>\n      <td>False</td>\n      <td>True</td>\n    </tr>\n    <tr>\n      <th>487152</th>\n      <td>8</td>\n      <td>0</td>\n      <td>0</td>\n      <td>False</td>\n      <td>True</td>\n    </tr>\n  </tbody>\n</table>\n<p>17378 rows × 5 columns</p>\n</div>"
     },
     "metadata": {},
     "execution_count": 27
    }
   ],
   "source": [
    "## heavy alcohol influence\n",
    "\n",
    "# append column with a flag indicating heavy alcohol influence\n",
    "df['alcohol'] = False\n",
    "df.loc[(df['p11'] >= 7), 'alcohol'] = True\n",
    "\n",
    "df[df['alcohol'] == True]  # 17378 rows"
   ]
  },
  {
   "cell_type": "code",
   "execution_count": 29,
   "metadata": {},
   "outputs": [
    {
     "output_type": "execute_result",
     "data": {
      "text/plain": [
       "conseq    False  True \n",
       "alcohol               \n",
       "False    457528  10777\n",
       "True      16492    886"
      ],
      "text/html": "<div>\n<style scoped>\n    .dataframe tbody tr th:only-of-type {\n        vertical-align: middle;\n    }\n\n    .dataframe tbody tr th {\n        vertical-align: top;\n    }\n\n    .dataframe thead th {\n        text-align: right;\n    }\n</style>\n<table border=\"1\" class=\"dataframe\">\n  <thead>\n    <tr style=\"text-align: right;\">\n      <th>conseq</th>\n      <th>False</th>\n      <th>True</th>\n    </tr>\n    <tr>\n      <th>alcohol</th>\n      <th></th>\n      <th></th>\n    </tr>\n  </thead>\n  <tbody>\n    <tr>\n      <th>False</th>\n      <td>457528</td>\n      <td>10777</td>\n    </tr>\n    <tr>\n      <th>True</th>\n      <td>16492</td>\n      <td>886</td>\n    </tr>\n  </tbody>\n</table>\n</div>"
     },
     "metadata": {},
     "execution_count": 29
    }
   ],
   "source": [
    "ct = pd.crosstab(df['alcohol'], df['conseq'])\n",
    "ct\n"
   ]
  },
  {
   "cell_type": "code",
   "execution_count": 31,
   "metadata": {},
   "outputs": [
    {
     "output_type": "execute_result",
     "data": {
      "text/plain": [
       "2.0971505700338304e-123"
      ]
     },
     "metadata": {},
     "execution_count": 31
    }
   ],
   "source": [
    "out = scipy.stats.chi2_contingency(ct)\n",
    "print(out[1])\n",
    "print('Hodnota je velmi malá, hypotézu tedy povrzujeme.')"
   ]
  }
 ],
 "metadata": {
  "kernelspec": {
   "name": "pycharm-4872f7c",
   "language": "python",
   "display_name": "PyCharm (11-12-ml_solved)"
  },
  "language_info": {
   "codemirror_mode": {
    "name": "ipython",
    "version": 2
   },
   "file_extension": ".py",
   "mimetype": "text/x-python",
   "name": "python",
   "nbconvert_exporter": "python",
   "pygments_lexer": "ipython2",
   "version": "3.8.5-final"
  }
 },
 "nbformat": 4,
 "nbformat_minor": 0
}